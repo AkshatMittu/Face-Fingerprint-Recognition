{
 "cells": [
  {
   "cell_type": "code",
   "execution_count": 3,
   "id": "878c114e",
   "metadata": {},
   "outputs": [],
   "source": [
    "import numpy as np\n",
    "import os\n",
    "import shutil\n",
    "import tensorflow as tf\n",
    "import matplotlib.pyplot as plt\n",
    "import matplotlib.image as mpimg\n",
    "import deepface"
   ]
  },
  {
   "cell_type": "code",
   "execution_count": 2,
   "id": "bf23a6c0",
   "metadata": {},
   "outputs": [],
   "source": [
    "from deepface import DeepFace"
   ]
  },
  {
   "cell_type": "code",
   "execution_count": 3,
   "id": "b4e0000b",
   "metadata": {},
   "outputs": [
    {
     "data": {
      "text/plain": [
       "['2453 3801 2517.jpg',\n",
       " '2693 9482 7040.jpg',\n",
       " '5546 8897 2113.jpg',\n",
       " '5588 6445 1469.jpg',\n",
       " '8789 8456 1121.jpg']"
      ]
     },
     "execution_count": 3,
     "metadata": {},
     "output_type": "execute_result"
    }
   ],
   "source": [
    "direc = \"photos/\"\n",
    "os.listdir(direc)"
   ]
  },
  {
   "cell_type": "code",
   "execution_count": 4,
   "id": "02155fb4",
   "metadata": {},
   "outputs": [],
   "source": [
    "import pandas as pd"
   ]
  },
  {
   "cell_type": "code",
   "execution_count": 18,
   "id": "80250891",
   "metadata": {},
   "outputs": [],
   "source": [
    "df = pd.read_excel(\"data.xlsx\")"
   ]
  },
  {
   "cell_type": "code",
   "execution_count": 19,
   "id": "50440642",
   "metadata": {
    "scrolled": true
   },
   "outputs": [
    {
     "data": {
      "text/html": [
       "<div>\n",
       "<style scoped>\n",
       "    .dataframe tbody tr th:only-of-type {\n",
       "        vertical-align: middle;\n",
       "    }\n",
       "\n",
       "    .dataframe tbody tr th {\n",
       "        vertical-align: top;\n",
       "    }\n",
       "\n",
       "    .dataframe thead th {\n",
       "        text-align: right;\n",
       "    }\n",
       "</style>\n",
       "<table border=\"1\" class=\"dataframe\">\n",
       "  <thead>\n",
       "    <tr style=\"text-align: right;\">\n",
       "      <th></th>\n",
       "      <th>Unnamed: 0</th>\n",
       "      <th>Unnamed: 1</th>\n",
       "      <th>Unnamed: 2</th>\n",
       "      <th>Aadhar Number</th>\n",
       "      <th>Name</th>\n",
       "      <th>Parent Name</th>\n",
       "      <th>Guardian Name</th>\n",
       "      <th>Date Of Birth</th>\n",
       "      <th>Gender</th>\n",
       "      <th>Age</th>\n",
       "      <th>Phone Number</th>\n",
       "      <th>Parent's Phone Number</th>\n",
       "      <th>Address</th>\n",
       "    </tr>\n",
       "  </thead>\n",
       "  <tbody>\n",
       "    <tr>\n",
       "      <th>0</th>\n",
       "      <td>NaN</td>\n",
       "      <td>NaN</td>\n",
       "      <td>NaN</td>\n",
       "      <td>2693 9482 7040</td>\n",
       "      <td>Adam</td>\n",
       "      <td>Atticus</td>\n",
       "      <td>Atticus</td>\n",
       "      <td>2002-02-16</td>\n",
       "      <td>male</td>\n",
       "      <td>20</td>\n",
       "      <td>7698341209</td>\n",
       "      <td>9874152345</td>\n",
       "      <td>(731) 989-252311044 45th Hwy N\\nBethel Springs...</td>\n",
       "    </tr>\n",
       "    <tr>\n",
       "      <th>1</th>\n",
       "      <td>NaN</td>\n",
       "      <td>NaN</td>\n",
       "      <td>NaN</td>\n",
       "      <td>2453 3801 2517</td>\n",
       "      <td>Augustus</td>\n",
       "      <td>Asher</td>\n",
       "      <td>Asher</td>\n",
       "      <td>2002-03-26</td>\n",
       "      <td>Male</td>\n",
       "      <td>20</td>\n",
       "      <td>9030831388</td>\n",
       "      <td>7098934233</td>\n",
       "      <td>(804) 379-47172721 Trotters Ln #103-9\\nMidloth...</td>\n",
       "    </tr>\n",
       "    <tr>\n",
       "      <th>2</th>\n",
       "      <td>NaN</td>\n",
       "      <td>NaN</td>\n",
       "      <td>NaN</td>\n",
       "      <td>8789 8456 1121</td>\n",
       "      <td>Caspian</td>\n",
       "      <td>Jack</td>\n",
       "      <td>Jack</td>\n",
       "      <td>2002-09-12</td>\n",
       "      <td>male</td>\n",
       "      <td>19</td>\n",
       "      <td>6248977849</td>\n",
       "      <td>8745123456</td>\n",
       "      <td>(410) 729-8737\\n675 Wellerburn Ave\\nSeverna Pa...</td>\n",
       "    </tr>\n",
       "    <tr>\n",
       "      <th>3</th>\n",
       "      <td>NaN</td>\n",
       "      <td>NaN</td>\n",
       "      <td>NaN</td>\n",
       "      <td>5546 8897 2113</td>\n",
       "      <td>Zara</td>\n",
       "      <td>Theodore</td>\n",
       "      <td>Theodore</td>\n",
       "      <td>2002-10-31</td>\n",
       "      <td>Female</td>\n",
       "      <td>19</td>\n",
       "      <td>9456178523</td>\n",
       "      <td>89845612456</td>\n",
       "      <td>(229) 941-5995\\n921 Bay Rockyford Rd\\nHartsfie...</td>\n",
       "    </tr>\n",
       "    <tr>\n",
       "      <th>4</th>\n",
       "      <td>NaN</td>\n",
       "      <td>NaN</td>\n",
       "      <td>NaN</td>\n",
       "      <td>4544 9874 6545</td>\n",
       "      <td>Dante</td>\n",
       "      <td>Jasper</td>\n",
       "      <td>Jasper</td>\n",
       "      <td>2003-03-12</td>\n",
       "      <td>male</td>\n",
       "      <td>19</td>\n",
       "      <td>7456984123</td>\n",
       "      <td>7841256314</td>\n",
       "      <td>(732) 727-0231\\n720 Bordentown Ave\\nSouth Ambo...</td>\n",
       "    </tr>\n",
       "  </tbody>\n",
       "</table>\n",
       "</div>"
      ],
      "text/plain": [
       "   Unnamed: 0  Unnamed: 1  Unnamed: 2    Aadhar Number      Name Parent Name  \\\n",
       "0         NaN         NaN         NaN   2693 9482 7040      Adam     Atticus   \n",
       "1         NaN         NaN         NaN  2453 3801 2517   Augustus       Asher   \n",
       "2         NaN         NaN         NaN   8789 8456 1121   Caspian        Jack   \n",
       "3         NaN         NaN         NaN   5546 8897 2113      Zara    Theodore   \n",
       "4         NaN         NaN         NaN   4544 9874 6545     Dante      Jasper   \n",
       "\n",
       "  Guardian Name Date Of Birth  Gender  Age  Phone Number  \\\n",
       "0       Atticus    2002-02-16    male   20    7698341209   \n",
       "1         Asher    2002-03-26    Male   20    9030831388   \n",
       "2          Jack    2002-09-12    male   19    6248977849   \n",
       "3      Theodore    2002-10-31  Female   19    9456178523   \n",
       "4        Jasper    2003-03-12    male   19    7456984123   \n",
       "\n",
       "   Parent's Phone Number                                            Address  \n",
       "0             9874152345  (731) 989-252311044 45th Hwy N\\nBethel Springs...  \n",
       "1             7098934233  (804) 379-47172721 Trotters Ln #103-9\\nMidloth...  \n",
       "2             8745123456  (410) 729-8737\\n675 Wellerburn Ave\\nSeverna Pa...  \n",
       "3            89845612456  (229) 941-5995\\n921 Bay Rockyford Rd\\nHartsfie...  \n",
       "4             7841256314  (732) 727-0231\\n720 Bordentown Ave\\nSouth Ambo...  "
      ]
     },
     "execution_count": 19,
     "metadata": {},
     "output_type": "execute_result"
    }
   ],
   "source": [
    "df.head()"
   ]
  },
  {
   "cell_type": "code",
   "execution_count": 20,
   "id": "3ac4123a",
   "metadata": {
    "scrolled": true
   },
   "outputs": [
    {
     "data": {
      "text/html": [
       "<div>\n",
       "<style scoped>\n",
       "    .dataframe tbody tr th:only-of-type {\n",
       "        vertical-align: middle;\n",
       "    }\n",
       "\n",
       "    .dataframe tbody tr th {\n",
       "        vertical-align: top;\n",
       "    }\n",
       "\n",
       "    .dataframe thead th {\n",
       "        text-align: right;\n",
       "    }\n",
       "</style>\n",
       "<table border=\"1\" class=\"dataframe\">\n",
       "  <thead>\n",
       "    <tr style=\"text-align: right;\">\n",
       "      <th></th>\n",
       "      <th>Aadhar Number</th>\n",
       "      <th>Name</th>\n",
       "      <th>Parent Name</th>\n",
       "      <th>Guardian Name</th>\n",
       "      <th>Date Of Birth</th>\n",
       "      <th>Gender</th>\n",
       "      <th>Age</th>\n",
       "      <th>Phone Number</th>\n",
       "      <th>Parent's Phone Number</th>\n",
       "      <th>Address</th>\n",
       "    </tr>\n",
       "  </thead>\n",
       "  <tbody>\n",
       "    <tr>\n",
       "      <th>0</th>\n",
       "      <td>2693 9482 7040</td>\n",
       "      <td>Adam</td>\n",
       "      <td>Atticus</td>\n",
       "      <td>Atticus</td>\n",
       "      <td>2002-02-16</td>\n",
       "      <td>male</td>\n",
       "      <td>20</td>\n",
       "      <td>7698341209</td>\n",
       "      <td>9874152345</td>\n",
       "      <td>(731) 989-252311044 45th Hwy N\\nBethel Springs...</td>\n",
       "    </tr>\n",
       "    <tr>\n",
       "      <th>1</th>\n",
       "      <td>2453 3801 2517</td>\n",
       "      <td>Augustus</td>\n",
       "      <td>Asher</td>\n",
       "      <td>Asher</td>\n",
       "      <td>2002-03-26</td>\n",
       "      <td>Male</td>\n",
       "      <td>20</td>\n",
       "      <td>9030831388</td>\n",
       "      <td>7098934233</td>\n",
       "      <td>(804) 379-47172721 Trotters Ln #103-9\\nMidloth...</td>\n",
       "    </tr>\n",
       "    <tr>\n",
       "      <th>2</th>\n",
       "      <td>8789 8456 1121</td>\n",
       "      <td>Caspian</td>\n",
       "      <td>Jack</td>\n",
       "      <td>Jack</td>\n",
       "      <td>2002-09-12</td>\n",
       "      <td>male</td>\n",
       "      <td>19</td>\n",
       "      <td>6248977849</td>\n",
       "      <td>8745123456</td>\n",
       "      <td>(410) 729-8737\\n675 Wellerburn Ave\\nSeverna Pa...</td>\n",
       "    </tr>\n",
       "    <tr>\n",
       "      <th>3</th>\n",
       "      <td>5546 8897 2113</td>\n",
       "      <td>Zara</td>\n",
       "      <td>Theodore</td>\n",
       "      <td>Theodore</td>\n",
       "      <td>2002-10-31</td>\n",
       "      <td>Female</td>\n",
       "      <td>19</td>\n",
       "      <td>9456178523</td>\n",
       "      <td>89845612456</td>\n",
       "      <td>(229) 941-5995\\n921 Bay Rockyford Rd\\nHartsfie...</td>\n",
       "    </tr>\n",
       "    <tr>\n",
       "      <th>4</th>\n",
       "      <td>4544 9874 6545</td>\n",
       "      <td>Dante</td>\n",
       "      <td>Jasper</td>\n",
       "      <td>Jasper</td>\n",
       "      <td>2003-03-12</td>\n",
       "      <td>male</td>\n",
       "      <td>19</td>\n",
       "      <td>7456984123</td>\n",
       "      <td>7841256314</td>\n",
       "      <td>(732) 727-0231\\n720 Bordentown Ave\\nSouth Ambo...</td>\n",
       "    </tr>\n",
       "  </tbody>\n",
       "</table>\n",
       "</div>"
      ],
      "text/plain": [
       "     Aadhar Number      Name Parent Name Guardian Name Date Of Birth  Gender  \\\n",
       "0   2693 9482 7040      Adam     Atticus       Atticus    2002-02-16    male   \n",
       "1  2453 3801 2517   Augustus       Asher         Asher    2002-03-26    Male   \n",
       "2   8789 8456 1121   Caspian        Jack          Jack    2002-09-12    male   \n",
       "3   5546 8897 2113      Zara    Theodore      Theodore    2002-10-31  Female   \n",
       "4   4544 9874 6545     Dante      Jasper        Jasper    2003-03-12    male   \n",
       "\n",
       "   Age  Phone Number  Parent's Phone Number  \\\n",
       "0   20    7698341209             9874152345   \n",
       "1   20    9030831388             7098934233   \n",
       "2   19    6248977849             8745123456   \n",
       "3   19    9456178523            89845612456   \n",
       "4   19    7456984123             7841256314   \n",
       "\n",
       "                                             Address  \n",
       "0  (731) 989-252311044 45th Hwy N\\nBethel Springs...  \n",
       "1  (804) 379-47172721 Trotters Ln #103-9\\nMidloth...  \n",
       "2  (410) 729-8737\\n675 Wellerburn Ave\\nSeverna Pa...  \n",
       "3  (229) 941-5995\\n921 Bay Rockyford Rd\\nHartsfie...  \n",
       "4  (732) 727-0231\\n720 Bordentown Ave\\nSouth Ambo...  "
      ]
     },
     "execution_count": 20,
     "metadata": {},
     "output_type": "execute_result"
    }
   ],
   "source": [
    "df = df.dropna(axis=1)\n",
    "df.head()"
   ]
  },
  {
   "cell_type": "code",
   "execution_count": 30,
   "id": "d3a680bd",
   "metadata": {},
   "outputs": [],
   "source": [
    "def predict_and_display_details(photo):\n",
    "    files = os.listdir(direc)\n",
    "    for i in files:\n",
    "        check = DeepFace.verify(photo,direc+i,model_name=\"VGG-Face\",enforce_detection=False)\n",
    "        if check['verified']:\n",
    "            file_name = i.split(\".\")[0]\n",
    "            image = mpimg.imread(direc+i)\n",
    "            plt.imshow(image)\n",
    "            plt.axis('Off')\n",
    "            plt.show()\n",
    "            extract_details(file_name)\n",
    "            break\n",
    "            \n",
    "    else:\n",
    "        print(\"Sorry, Person was not recognised\")"
   ]
  },
  {
   "cell_type": "code",
   "execution_count": 9,
   "id": "7d9b39e5",
   "metadata": {},
   "outputs": [
    {
     "data": {
      "text/plain": [
       "'2693 9482 7040'"
      ]
     },
     "execution_count": 9,
     "metadata": {},
     "output_type": "execute_result"
    }
   ],
   "source": [
    "\"2693 9482 7040.jpg\".split(\".\")[0]"
   ]
  },
  {
   "cell_type": "code",
   "execution_count": 10,
   "id": "0b5605cb",
   "metadata": {},
   "outputs": [],
   "source": [
    "def extract_details(name):\n",
    "    new_df = df[df['Aadhar Number'] == name]\n",
    "    print(\"Name:\",new_df['Name'].to_string()[4:])\n",
    "    print(\"Date Of Birth:\",new_df['Date Of Birth'].to_string()[4:])\n",
    "    print(\"Gender:\",new_df['Gender'].to_string()[4:])\n",
    "    print(\"Age:\",new_df['Age'].to_string()[4:])\n",
    "    print(\"Phone Number:\",new_df['Phone Number'].to_string()[4:])\n",
    "    print(\"Parent Name:\",new_df['Parent Name'].to_string()[4:])\n",
    "    print(\"Parent's Phone Number:\",new_df[\"Parent's Phone Number\"].to_string()[4:])\n",
    "    print(\"Guardian Name:\",new_df['Guardian Name'].to_string()[4:])\n",
    "    print(\"Address:\",new_df['Address'].to_string()[4:])"
   ]
  },
  {
   "cell_type": "code",
   "execution_count": 21,
   "id": "21d729b0",
   "metadata": {},
   "outputs": [],
   "source": [
    "df['Address'] = [i.replace('\\n',',') for i in df['Address']]"
   ]
  },
  {
   "cell_type": "code",
   "execution_count": 22,
   "id": "f38f5a15",
   "metadata": {
    "scrolled": false
   },
   "outputs": [
    {
     "data": {
      "text/html": [
       "<div>\n",
       "<style scoped>\n",
       "    .dataframe tbody tr th:only-of-type {\n",
       "        vertical-align: middle;\n",
       "    }\n",
       "\n",
       "    .dataframe tbody tr th {\n",
       "        vertical-align: top;\n",
       "    }\n",
       "\n",
       "    .dataframe thead th {\n",
       "        text-align: right;\n",
       "    }\n",
       "</style>\n",
       "<table border=\"1\" class=\"dataframe\">\n",
       "  <thead>\n",
       "    <tr style=\"text-align: right;\">\n",
       "      <th></th>\n",
       "      <th>Aadhar Number</th>\n",
       "      <th>Name</th>\n",
       "      <th>Parent Name</th>\n",
       "      <th>Guardian Name</th>\n",
       "      <th>Date Of Birth</th>\n",
       "      <th>Gender</th>\n",
       "      <th>Age</th>\n",
       "      <th>Phone Number</th>\n",
       "      <th>Parent's Phone Number</th>\n",
       "      <th>Address</th>\n",
       "    </tr>\n",
       "  </thead>\n",
       "  <tbody>\n",
       "    <tr>\n",
       "      <th>0</th>\n",
       "      <td>2693 9482 7040</td>\n",
       "      <td>Adam</td>\n",
       "      <td>Atticus</td>\n",
       "      <td>Atticus</td>\n",
       "      <td>2002-02-16</td>\n",
       "      <td>male</td>\n",
       "      <td>20</td>\n",
       "      <td>7698341209</td>\n",
       "      <td>9874152345</td>\n",
       "      <td>(731) 989-252311044 45th Hwy N,Bethel Springs,...</td>\n",
       "    </tr>\n",
       "    <tr>\n",
       "      <th>1</th>\n",
       "      <td>2453 3801 2517</td>\n",
       "      <td>Augustus</td>\n",
       "      <td>Asher</td>\n",
       "      <td>Asher</td>\n",
       "      <td>2002-03-26</td>\n",
       "      <td>Male</td>\n",
       "      <td>20</td>\n",
       "      <td>9030831388</td>\n",
       "      <td>7098934233</td>\n",
       "      <td>(804) 379-47172721 Trotters Ln #103-9,Midlothi...</td>\n",
       "    </tr>\n",
       "    <tr>\n",
       "      <th>2</th>\n",
       "      <td>8789 8456 1121</td>\n",
       "      <td>Caspian</td>\n",
       "      <td>Jack</td>\n",
       "      <td>Jack</td>\n",
       "      <td>2002-09-12</td>\n",
       "      <td>male</td>\n",
       "      <td>19</td>\n",
       "      <td>6248977849</td>\n",
       "      <td>8745123456</td>\n",
       "      <td>(410) 729-8737,675 Wellerburn Ave,Severna Park...</td>\n",
       "    </tr>\n",
       "    <tr>\n",
       "      <th>3</th>\n",
       "      <td>5546 8897 2113</td>\n",
       "      <td>Zara</td>\n",
       "      <td>Theodore</td>\n",
       "      <td>Theodore</td>\n",
       "      <td>2002-10-31</td>\n",
       "      <td>Female</td>\n",
       "      <td>19</td>\n",
       "      <td>9456178523</td>\n",
       "      <td>89845612456</td>\n",
       "      <td>(229) 941-5995,921 Bay Rockyford Rd,Hartsfield...</td>\n",
       "    </tr>\n",
       "    <tr>\n",
       "      <th>4</th>\n",
       "      <td>4544 9874 6545</td>\n",
       "      <td>Dante</td>\n",
       "      <td>Jasper</td>\n",
       "      <td>Jasper</td>\n",
       "      <td>2003-03-12</td>\n",
       "      <td>male</td>\n",
       "      <td>19</td>\n",
       "      <td>7456984123</td>\n",
       "      <td>7841256314</td>\n",
       "      <td>(732) 727-0231,720 Bordentown Ave,South Amboy,...</td>\n",
       "    </tr>\n",
       "  </tbody>\n",
       "</table>\n",
       "</div>"
      ],
      "text/plain": [
       "     Aadhar Number      Name Parent Name Guardian Name Date Of Birth  Gender  \\\n",
       "0   2693 9482 7040      Adam     Atticus       Atticus    2002-02-16    male   \n",
       "1  2453 3801 2517   Augustus       Asher         Asher    2002-03-26    Male   \n",
       "2   8789 8456 1121   Caspian        Jack          Jack    2002-09-12    male   \n",
       "3   5546 8897 2113      Zara    Theodore      Theodore    2002-10-31  Female   \n",
       "4   4544 9874 6545     Dante      Jasper        Jasper    2003-03-12    male   \n",
       "\n",
       "   Age  Phone Number  Parent's Phone Number  \\\n",
       "0   20    7698341209             9874152345   \n",
       "1   20    9030831388             7098934233   \n",
       "2   19    6248977849             8745123456   \n",
       "3   19    9456178523            89845612456   \n",
       "4   19    7456984123             7841256314   \n",
       "\n",
       "                                             Address  \n",
       "0  (731) 989-252311044 45th Hwy N,Bethel Springs,...  \n",
       "1  (804) 379-47172721 Trotters Ln #103-9,Midlothi...  \n",
       "2  (410) 729-8737,675 Wellerburn Ave,Severna Park...  \n",
       "3  (229) 941-5995,921 Bay Rockyford Rd,Hartsfield...  \n",
       "4  (732) 727-0231,720 Bordentown Ave,South Amboy,...  "
      ]
     },
     "execution_count": 22,
     "metadata": {},
     "output_type": "execute_result"
    }
   ],
   "source": [
    "df.head()"
   ]
  },
  {
   "cell_type": "code",
   "execution_count": 28,
   "id": "ac83b9f8",
   "metadata": {},
   "outputs": [],
   "source": [
    "# Setting the max number of characters to display when printing the data from the dataframe\n",
    "# Before this the address field got trimmed to 50 chars(default)\n",
    "pd.options.display.max_colwidth = 100"
   ]
  },
  {
   "cell_type": "code",
   "execution_count": 31,
   "id": "fe5fea9e",
   "metadata": {
    "scrolled": false
   },
   "outputs": [
    {
     "data": {
      "image/png": "[encoded data removed]",
      "text/plain": [
       "<Figure size 432x288 with 1 Axes>"
      ]
     },
     "metadata": {
      "needs_background": "light"
     },
     "output_type": "display_data"
    },
    {
     "name": "stdout",
     "output_type": "stream",
     "text": [
      "Name:  Maya\n",
      "Date Of Birth: 2001-01-22\n",
      "Gender:  Female\n",
      "Age:  21\n",
      "Phone Number:  8745985213\n",
      "Parent Name:   Henry\n",
      "Parent's Phone Number:  8451275623\n",
      "Guardian Name:   Henry\n",
      "Address:  (949) 719-9152,6 Vintage Dr,Newport Beach, California(CA), 92660\n"
     ]
    }
   ],
   "source": [
    "predict_and_display_details(direc+'5588 6445 1469.jpg')"
   ]
  },
  {
   "cell_type": "code",
   "execution_count": 24,
   "id": "565f9eb8",
   "metadata": {
    "scrolled": false
   },
   "outputs": [
    {
     "data": {
      "text/html": [
       "<div>\n",
       "<style scoped>\n",
       "    .dataframe tbody tr th:only-of-type {\n",
       "        vertical-align: middle;\n",
       "    }\n",
       "\n",
       "    .dataframe tbody tr th {\n",
       "        vertical-align: top;\n",
       "    }\n",
       "\n",
       "    .dataframe thead th {\n",
       "        text-align: right;\n",
       "    }\n",
       "</style>\n",
       "<table border=\"1\" class=\"dataframe\">\n",
       "  <thead>\n",
       "    <tr style=\"text-align: right;\">\n",
       "      <th></th>\n",
       "      <th>Aadhar Number</th>\n",
       "      <th>Name</th>\n",
       "      <th>Parent Name</th>\n",
       "      <th>Guardian Name</th>\n",
       "      <th>Date Of Birth</th>\n",
       "      <th>Gender</th>\n",
       "      <th>Age</th>\n",
       "      <th>Phone Number</th>\n",
       "      <th>Parent's Phone Number</th>\n",
       "      <th>Address</th>\n",
       "    </tr>\n",
       "  </thead>\n",
       "  <tbody>\n",
       "    <tr>\n",
       "      <th>4</th>\n",
       "      <td>4544 9874 6545</td>\n",
       "      <td>Dante</td>\n",
       "      <td>Jasper</td>\n",
       "      <td>Jasper</td>\n",
       "      <td>2003-03-12</td>\n",
       "      <td>male</td>\n",
       "      <td>19</td>\n",
       "      <td>7456984123</td>\n",
       "      <td>7841256314</td>\n",
       "      <td>(732) 727-0231,720 Bordentown Ave,South Amboy,...</td>\n",
       "    </tr>\n",
       "    <tr>\n",
       "      <th>5</th>\n",
       "      <td>5587 5459 5556</td>\n",
       "      <td>Grace</td>\n",
       "      <td>. Milo</td>\n",
       "      <td>. Milo</td>\n",
       "      <td>2001-04-10</td>\n",
       "      <td>Female</td>\n",
       "      <td>21</td>\n",
       "      <td>8745698124</td>\n",
       "      <td>95845612345</td>\n",
       "      <td>(916) 966-6504,6820 Admiral Ave,Fair Oaks, Cal...</td>\n",
       "    </tr>\n",
       "    <tr>\n",
       "      <th>6</th>\n",
       "      <td>5587 2415 9546</td>\n",
       "      <td>Emmett</td>\n",
       "      <td>Oliver</td>\n",
       "      <td>Oliver</td>\n",
       "      <td>2002-09-23</td>\n",
       "      <td>male</td>\n",
       "      <td>19</td>\n",
       "      <td>9457861254</td>\n",
       "      <td>7894512345</td>\n",
       "      <td>(808) 676-8583,94-561 Palai St,Waipahu, Hawaii...</td>\n",
       "    </tr>\n",
       "    <tr>\n",
       "      <th>7</th>\n",
       "      <td>5454 5556 1246</td>\n",
       "      <td>Everett</td>\n",
       "      <td>Silas</td>\n",
       "      <td>Silas</td>\n",
       "      <td>2002-09-23</td>\n",
       "      <td>male</td>\n",
       "      <td>19</td>\n",
       "      <td>6789453124</td>\n",
       "      <td>9841245678</td>\n",
       "      <td>(864) 595-8006,165 Meadows St,Moore, South Car...</td>\n",
       "    </tr>\n",
       "    <tr>\n",
       "      <th>8</th>\n",
       "      <td>5588 6445 1469</td>\n",
       "      <td>Maya</td>\n",
       "      <td>Henry</td>\n",
       "      <td>Henry</td>\n",
       "      <td>2001-01-22</td>\n",
       "      <td>Female</td>\n",
       "      <td>21</td>\n",
       "      <td>8745985213</td>\n",
       "      <td>8451275623</td>\n",
       "      <td>(949) 719-9152,6 Vintage Dr,Newport Beach, Cal...</td>\n",
       "    </tr>\n",
       "  </tbody>\n",
       "</table>\n",
       "</div>"
      ],
      "text/plain": [
       "    Aadhar Number     Name Parent Name Guardian Name Date Of Birth  Gender  \\\n",
       "4  4544 9874 6545    Dante      Jasper        Jasper    2003-03-12    male   \n",
       "5  5587 5459 5556    Grace      . Milo        . Milo    2001-04-10  Female   \n",
       "6  5587 2415 9546   Emmett      Oliver        Oliver    2002-09-23    male   \n",
       "7  5454 5556 1246  Everett       Silas         Silas    2002-09-23    male   \n",
       "8  5588 6445 1469     Maya       Henry         Henry    2001-01-22  Female   \n",
       "\n",
       "   Age  Phone Number  Parent's Phone Number  \\\n",
       "4   19    7456984123             7841256314   \n",
       "5   21    8745698124            95845612345   \n",
       "6   19    9457861254             7894512345   \n",
       "7   19    6789453124             9841245678   \n",
       "8   21    8745985213             8451275623   \n",
       "\n",
       "                                             Address  \n",
       "4  (732) 727-0231,720 Bordentown Ave,South Amboy,...  \n",
       "5  (916) 966-6504,6820 Admiral Ave,Fair Oaks, Cal...  \n",
       "6  (808) 676-8583,94-561 Palai St,Waipahu, Hawaii...  \n",
       "7  (864) 595-8006,165 Meadows St,Moore, South Car...  \n",
       "8  (949) 719-9152,6 Vintage Dr,Newport Beach, Cal...  "
      ]
     },
     "execution_count": 24,
     "metadata": {},
     "output_type": "execute_result"
    }
   ],
   "source": [
    "df.tail()"
   ]
  },
  {
   "cell_type": "code",
   "execution_count": 32,
   "id": "c17a7a29",
   "metadata": {
    "scrolled": false
   },
   "outputs": [
    {
     "data": {
      "text/html": [
       "<div>\n",
       "<style scoped>\n",
       "    .dataframe tbody tr th:only-of-type {\n",
       "        vertical-align: middle;\n",
       "    }\n",
       "\n",
       "    .dataframe tbody tr th {\n",
       "        vertical-align: top;\n",
       "    }\n",
       "\n",
       "    .dataframe thead th {\n",
       "        text-align: right;\n",
       "    }\n",
       "</style>\n",
       "<table border=\"1\" class=\"dataframe\">\n",
       "  <thead>\n",
       "    <tr style=\"text-align: right;\">\n",
       "      <th></th>\n",
       "      <th>Aadhar Number</th>\n",
       "      <th>Name</th>\n",
       "      <th>Parent Name</th>\n",
       "      <th>Guardian Name</th>\n",
       "      <th>Date Of Birth</th>\n",
       "      <th>Gender</th>\n",
       "      <th>Age</th>\n",
       "      <th>Phone Number</th>\n",
       "      <th>Parent's Phone Number</th>\n",
       "      <th>Address</th>\n",
       "    </tr>\n",
       "  </thead>\n",
       "  <tbody>\n",
       "    <tr>\n",
       "      <th>0</th>\n",
       "      <td>2693 9482 7040</td>\n",
       "      <td>Adam</td>\n",
       "      <td>Atticus</td>\n",
       "      <td>Atticus</td>\n",
       "      <td>2002-02-16</td>\n",
       "      <td>male</td>\n",
       "      <td>20</td>\n",
       "      <td>7698341209</td>\n",
       "      <td>9874152345</td>\n",
       "      <td>(731) 989-252311044 45th Hwy N,Bethel Springs, Tennessee(TN), 38315</td>\n",
       "    </tr>\n",
       "    <tr>\n",
       "      <th>1</th>\n",
       "      <td>2453 3801 2517</td>\n",
       "      <td>Augustus</td>\n",
       "      <td>Asher</td>\n",
       "      <td>Asher</td>\n",
       "      <td>2002-03-26</td>\n",
       "      <td>Male</td>\n",
       "      <td>20</td>\n",
       "      <td>9030831388</td>\n",
       "      <td>7098934233</td>\n",
       "      <td>(804) 379-47172721 Trotters Ln #103-9,Midlothian, Virginia(VA), 23113</td>\n",
       "    </tr>\n",
       "    <tr>\n",
       "      <th>2</th>\n",
       "      <td>8789 8456 1121</td>\n",
       "      <td>Caspian</td>\n",
       "      <td>Jack</td>\n",
       "      <td>Jack</td>\n",
       "      <td>2002-09-12</td>\n",
       "      <td>male</td>\n",
       "      <td>19</td>\n",
       "      <td>6248977849</td>\n",
       "      <td>8745123456</td>\n",
       "      <td>(410) 729-8737,675 Wellerburn Ave,Severna Park, Maryland(MD), 21146</td>\n",
       "    </tr>\n",
       "    <tr>\n",
       "      <th>3</th>\n",
       "      <td>5546 8897 2113</td>\n",
       "      <td>Zara</td>\n",
       "      <td>Theodore</td>\n",
       "      <td>Theodore</td>\n",
       "      <td>2002-10-31</td>\n",
       "      <td>Female</td>\n",
       "      <td>19</td>\n",
       "      <td>9456178523</td>\n",
       "      <td>89845612456</td>\n",
       "      <td>(229) 941-5995,921 Bay Rockyford Rd,Hartsfield, Georgia(GA), 31756</td>\n",
       "    </tr>\n",
       "    <tr>\n",
       "      <th>4</th>\n",
       "      <td>4544 9874 6545</td>\n",
       "      <td>Dante</td>\n",
       "      <td>Jasper</td>\n",
       "      <td>Jasper</td>\n",
       "      <td>2003-03-12</td>\n",
       "      <td>male</td>\n",
       "      <td>19</td>\n",
       "      <td>7456984123</td>\n",
       "      <td>7841256314</td>\n",
       "      <td>(732) 727-0231,720 Bordentown Ave,South Amboy, New Jersey(NJ), 08879</td>\n",
       "    </tr>\n",
       "    <tr>\n",
       "      <th>5</th>\n",
       "      <td>5587 5459 5556</td>\n",
       "      <td>Grace</td>\n",
       "      <td>. Milo</td>\n",
       "      <td>. Milo</td>\n",
       "      <td>2001-04-10</td>\n",
       "      <td>Female</td>\n",
       "      <td>21</td>\n",
       "      <td>8745698124</td>\n",
       "      <td>95845612345</td>\n",
       "      <td>(916) 966-6504,6820 Admiral Ave,Fair Oaks, California(CA), 95628</td>\n",
       "    </tr>\n",
       "    <tr>\n",
       "      <th>6</th>\n",
       "      <td>5587 2415 9546</td>\n",
       "      <td>Emmett</td>\n",
       "      <td>Oliver</td>\n",
       "      <td>Oliver</td>\n",
       "      <td>2002-09-23</td>\n",
       "      <td>male</td>\n",
       "      <td>19</td>\n",
       "      <td>9457861254</td>\n",
       "      <td>7894512345</td>\n",
       "      <td>(808) 676-8583,94-561 Palai St,Waipahu, Hawaii(HI), 96797</td>\n",
       "    </tr>\n",
       "    <tr>\n",
       "      <th>7</th>\n",
       "      <td>5454 5556 1246</td>\n",
       "      <td>Everett</td>\n",
       "      <td>Silas</td>\n",
       "      <td>Silas</td>\n",
       "      <td>2002-09-23</td>\n",
       "      <td>male</td>\n",
       "      <td>19</td>\n",
       "      <td>6789453124</td>\n",
       "      <td>9841245678</td>\n",
       "      <td>(864) 595-8006,165 Meadows St,Moore, South Carolina(SC), 29369</td>\n",
       "    </tr>\n",
       "    <tr>\n",
       "      <th>8</th>\n",
       "      <td>5588 6445 1469</td>\n",
       "      <td>Maya</td>\n",
       "      <td>Henry</td>\n",
       "      <td>Henry</td>\n",
       "      <td>2001-01-22</td>\n",
       "      <td>Female</td>\n",
       "      <td>21</td>\n",
       "      <td>8745985213</td>\n",
       "      <td>8451275623</td>\n",
       "      <td>(949) 719-9152,6 Vintage Dr,Newport Beach, California(CA), 92660</td>\n",
       "    </tr>\n",
       "  </tbody>\n",
       "</table>\n",
       "</div>"
      ],
      "text/plain": [
       "     Aadhar Number      Name Parent Name Guardian Name Date Of Birth  Gender  \\\n",
       "0   2693 9482 7040      Adam     Atticus       Atticus    2002-02-16    male   \n",
       "1  2453 3801 2517   Augustus       Asher         Asher    2002-03-26    Male   \n",
       "2   8789 8456 1121   Caspian        Jack          Jack    2002-09-12    male   \n",
       "3   5546 8897 2113      Zara    Theodore      Theodore    2002-10-31  Female   \n",
       "4   4544 9874 6545     Dante      Jasper        Jasper    2003-03-12    male   \n",
       "5   5587 5459 5556     Grace      . Milo        . Milo    2001-04-10  Female   \n",
       "6   5587 2415 9546    Emmett      Oliver        Oliver    2002-09-23    male   \n",
       "7   5454 5556 1246   Everett       Silas         Silas    2002-09-23    male   \n",
       "8   5588 6445 1469      Maya       Henry         Henry    2001-01-22  Female   \n",
       "\n",
       "   Age  Phone Number  Parent's Phone Number  \\\n",
       "0   20    7698341209             9874152345   \n",
       "1   20    9030831388             7098934233   \n",
       "2   19    6248977849             8745123456   \n",
       "3   19    9456178523            89845612456   \n",
       "4   19    7456984123             7841256314   \n",
       "5   21    8745698124            95845612345   \n",
       "6   19    9457861254             7894512345   \n",
       "7   19    6789453124             9841245678   \n",
       "8   21    8745985213             8451275623   \n",
       "\n",
       "                                                                 Address  \n",
       "0    (731) 989-252311044 45th Hwy N,Bethel Springs, Tennessee(TN), 38315  \n",
       "1  (804) 379-47172721 Trotters Ln #103-9,Midlothian, Virginia(VA), 23113  \n",
       "2    (410) 729-8737,675 Wellerburn Ave,Severna Park, Maryland(MD), 21146  \n",
       "3     (229) 941-5995,921 Bay Rockyford Rd,Hartsfield, Georgia(GA), 31756  \n",
       "4   (732) 727-0231,720 Bordentown Ave,South Amboy, New Jersey(NJ), 08879  \n",
       "5       (916) 966-6504,6820 Admiral Ave,Fair Oaks, California(CA), 95628  \n",
       "6              (808) 676-8583,94-561 Palai St,Waipahu, Hawaii(HI), 96797  \n",
       "7         (864) 595-8006,165 Meadows St,Moore, South Carolina(SC), 29369  \n",
       "8       (949) 719-9152,6 Vintage Dr,Newport Beach, California(CA), 92660  "
      ]
     },
     "execution_count": 32,
     "metadata": {},
     "output_type": "execute_result"
    }
   ],
   "source": [
    "df"
   ]
  },
  {
   "cell_type": "code",
   "execution_count": 42,
   "id": "47916546",
   "metadata": {},
   "outputs": [
    {
     "data": {
      "text/plain": [
       "(80, '1')"
      ]
     },
     "execution_count": 42,
     "metadata": {},
     "output_type": "execute_result"
    }
   ],
   "source": [
    "a = os.listdir(di)\n",
    "len(a),a[0][0]"
   ]
  },
  {
   "cell_type": "code",
   "execution_count": 43,
   "id": "4f230af5",
   "metadata": {},
   "outputs": [],
   "source": [
    "def make_fingerprint_folder(name,number):\n",
    "    os.mkdir(name)\n",
    "    for i in a:\n",
    "        if number == a[0][0]:\n",
    "            shutil.move(di+i,name+\"/\"+i)"
   ]
  },
  {
   "cell_type": "code",
   "execution_count": 45,
   "id": "9525534a",
   "metadata": {},
   "outputs": [],
   "source": [
    "make_fingerprint_folder(\"2693 9482 7040\",'1')"
   ]
  },
  {
   "cell_type": "code",
   "execution_count": 1,
   "id": "4568dac7",
   "metadata": {},
   "outputs": [],
   "source": [
    "train_dir = 'data/train'\n",
    "test_dir = 'data/test'"
   ]
  },
  {
   "cell_type": "code",
   "execution_count": 2,
   "id": "6780a5ab",
   "metadata": {},
   "outputs": [],
   "source": [
    "from tensorflow.keras.preprocessing.image import ImageDataGenerator"
   ]
  },
  {
   "cell_type": "code",
   "execution_count": 5,
   "id": "4330fdd4",
   "metadata": {},
   "outputs": [],
   "source": [
    "train_datagen = ImageDataGenerator(rescale=1./255, \n",
    "                                  rotation_range=20,\n",
    "                                  width_shift_range=0.2,\n",
    "                                  horizontal_flip=True,\n",
    "                                  zoom_range=0.2,\n",
    "                                  shear_range=0.2,\n",
    "                                  height_shift_range=0.2)\n",
    "test_datagen = ImageDataGenerator(rescale=1./255)"
   ]
  },
  {
   "cell_type": "code",
   "execution_count": 6,
   "id": "a0093867",
   "metadata": {},
   "outputs": [
    {
     "name": "stdout",
     "output_type": "stream",
     "text": [
      "Found 300 images belonging to 5 classes.\n",
      "Found 100 images belonging to 5 classes.\n"
     ]
    }
   ],
   "source": [
    "train_data = train_datagen.flow_from_directory(train_dir,target_size=(224,224),batch_size=32,class_mode='categorical',seed=42)\n",
    "test_data = test_datagen.flow_from_directory(test_dir,target_size=(224,224),batch_size=32,class_mode='categorical',seed=42)"
   ]
  },
  {
   "cell_type": "code",
   "execution_count": 7,
   "id": "acb34368",
   "metadata": {},
   "outputs": [
    {
     "data": {
      "text/plain": [
       "WindowsPath('data/train')"
      ]
     },
     "execution_count": 7,
     "metadata": {},
     "output_type": "execute_result"
    }
   ],
   "source": [
    "import pathlib\n",
    "data_dir = pathlib.Path(train_dir)\n",
    "data_dir"
   ]
  },
  {
   "cell_type": "code",
   "execution_count": 8,
   "id": "f9a26dec",
   "metadata": {},
   "outputs": [
    {
     "data": {
      "text/plain": [
       "array(['2453 3801 2517', '2693 9482 7040', '5546 8897 2113',\n",
       "       '5588 6445 1469', '8789 8456 1121'], dtype='<U14')"
      ]
     },
     "execution_count": 8,
     "metadata": {},
     "output_type": "execute_result"
    }
   ],
   "source": [
    "class_names = np.array(sorted([item.name for item in data_dir.glob('*')]))\n",
    "class_names"
   ]
  },
  {
   "cell_type": "code",
   "execution_count": 9,
   "id": "10e43e4c",
   "metadata": {},
   "outputs": [],
   "source": [
    "import matplotlib.pyplot as plt\n",
    "import matplotlib.image as mpimg\n",
    "import random\n",
    "import os\n",
    "\n",
    "def show_random_image(directory,class_name):\n",
    "    direc = directory+class_name\n",
    "    random_image = random.sample(os.listdir(direc) ,1)\n",
    "    image = mpimg.imread(direc + \"/\" + random_image[0])\n",
    "    plt.imshow(image)\n",
    "    plt.title(class_name)"
   ]
  },
  {
   "cell_type": "code",
   "execution_count": 10,
   "id": "319db083",
   "metadata": {},
   "outputs": [
    {
     "name": "stdout",
     "output_type": "stream",
     "text": [
      "Enter 0-4 for generating random image:-3\n"
     ]
    },
    {
     "data": {
      "image/png": "[encoded data removed]",
      "text/plain": [
       "<Figure size 432x288 with 1 Axes>"
      ]
     },
     "metadata": {
      "needs_background": "light"
     },
     "output_type": "display_data"
    }
   ],
   "source": [
    "n=int(input(\"Enter 0-4 for generating random image:-\"))\n",
    "show_random_image(train_dir+\"/\",class_names[n])"
   ]
  },
  {
   "cell_type": "code",
   "execution_count": 11,
   "id": "765ba6e3",
   "metadata": {},
   "outputs": [
    {
     "name": "stdout",
     "output_type": "stream",
     "text": [
      "Downloading data from https://storage.googleapis.com/tensorflow/keras-applications/vgg19/vgg19_weights_tf_dim_ordering_tf_kernels_notop.h5\n",
      "80142336/80134624 [==============================] - 10s 0us/step\n",
      "80150528/80134624 [==============================] - 10s 0us/step\n"
     ]
    }
   ],
   "source": [
    "vgg19 = tf.keras.applications.vgg19.VGG19(include_top=False,\n",
    "                                          weights='imagenet',\n",
    "                                         input_shape=(224,224,3))\n",
    "for i in vgg19.layers:\n",
    "    i.trainable = False\n",
    "\n",
    "model = tf.keras.models.Sequential(layers=vgg19.layers)\n",
    "    \n",
    "#     tf.keras.layers.Conv2D(filters=32,\n",
    "#                           kernel_size=3,\n",
    "#                           activation='relu',\n",
    "#                           input_shape=(224,224,3)),\n",
    "#     tf.keras.layers.MaxPool2D(pool_size=2,padding='valid'),\n",
    "#      tf.keras.layers.Conv2D(filters=64,\n",
    "#                           kernel_size=3,\n",
    "#                           activation='relu'),\n",
    "#     tf.keras.layers.MaxPool2D(pool_size=2,padding='valid'),\n",
    "#     tf.keras.layers.Conv2D(filters=64,\n",
    "#                           kernel_size=3,\n",
    "#                           activation='relu'),\n",
    "#     tf.keras.layers.MaxPool2D(pool_size=2,padding='valid'),\n",
    "#     tf.keras.layers.Conv2D(filters=128,\n",
    "#                           kernel_size=3,\n",
    "#                           activation='relu'),\n",
    "#      tf.keras.layers.MaxPool2D(pool_size=2,padding='valid'),\n",
    "model.add(tf.keras.layers.Flatten())\n",
    "model.add(tf.keras.layers.Dense(5,activation='softmax'))\n"
   ]
  },
  {
   "cell_type": "code",
   "execution_count": 12,
   "id": "caa661a2",
   "metadata": {},
   "outputs": [],
   "source": [
    "model.compile(optimizer='adam',loss='categorical_crossentropy',metrics=['accuracy'])"
   ]
  },
  {
   "cell_type": "code",
   "execution_count": 14,
   "id": "fb61be1a",
   "metadata": {
    "scrolled": true
   },
   "outputs": [
    {
     "name": "stdout",
     "output_type": "stream",
     "text": [
      "Epoch 1/10\n",
      "10/10 [==============================] - 48s 5s/step - loss: 0.7886 - accuracy: 0.7200 - val_loss: 0.4408 - val_accuracy: 0.8900\n",
      "Epoch 2/10\n",
      "10/10 [==============================] - 50s 5s/step - loss: 0.6848 - accuracy: 0.7500 - val_loss: 0.3863 - val_accuracy: 0.9000\n",
      "Epoch 3/10\n",
      "10/10 [==============================] - 49s 5s/step - loss: 0.5630 - accuracy: 0.8067 - val_loss: 0.4748 - val_accuracy: 0.8300\n",
      "Epoch 4/10\n",
      "10/10 [==============================] - 48s 5s/step - loss: 0.4718 - accuracy: 0.8433 - val_loss: 0.3837 - val_accuracy: 0.8600\n",
      "Epoch 5/10\n",
      "10/10 [==============================] - 48s 5s/step - loss: 0.4722 - accuracy: 0.8267 - val_loss: 0.3497 - val_accuracy: 0.8800\n",
      "Epoch 6/10\n",
      "10/10 [==============================] - 48s 5s/step - loss: 0.4360 - accuracy: 0.8333 - val_loss: 0.3483 - val_accuracy: 0.8900\n",
      "Epoch 7/10\n",
      "10/10 [==============================] - 48s 5s/step - loss: 0.4482 - accuracy: 0.8300 - val_loss: 0.2720 - val_accuracy: 0.8900\n",
      "Epoch 8/10\n",
      "10/10 [==============================] - 48s 5s/step - loss: 0.2987 - accuracy: 0.9033 - val_loss: 0.2571 - val_accuracy: 0.9200\n",
      "Epoch 9/10\n",
      "10/10 [==============================] - 48s 5s/step - loss: 0.3752 - accuracy: 0.8733 - val_loss: 0.3691 - val_accuracy: 0.8300\n",
      "Epoch 10/10\n",
      "10/10 [==============================] - 48s 5s/step - loss: 0.3264 - accuracy: 0.8933 - val_loss: 0.2745 - val_accuracy: 0.9300\n"
     ]
    }
   ],
   "source": [
    "model_1=model.fit(train_data,epochs=10,steps_per_epoch=len(train_data),validation_data=test_data,validation_steps=len(test_data))"
   ]
  },
  {
   "cell_type": "code",
   "execution_count": 76,
   "id": "718ef23f",
   "metadata": {},
   "outputs": [],
   "source": [
    "# Use VGG19 model\n",
    "# https://www.intechopen.com/chapters/72993"
   ]
  },
  {
   "cell_type": "code",
   "execution_count": 15,
   "id": "0c7b01e4",
   "metadata": {},
   "outputs": [],
   "source": [
    "model.save(\"Face-Fingerprint Recognition.h5\")"
   ]
  },
  {
   "cell_type": "code",
   "execution_count": null,
   "id": "824d07a2",
   "metadata": {},
   "outputs": [],
   "source": []
  }
 ],
 "metadata": {
  "kernelspec": {
   "display_name": "Python 3",
   "language": "python",
   "name": "python3"
  },
  "language_info": {
   "codemirror_mode": {
    "name": "ipython",
    "version": 3
   },
   "file_extension": ".py",
   "mimetype": "text/x-python",
   "name": "python",
   "nbconvert_exporter": "python",
   "pygments_lexer": "ipython3",
   "version": "3.8.8"
  }
 },
 "nbformat": 4,
 "nbformat_minor": 5
}
